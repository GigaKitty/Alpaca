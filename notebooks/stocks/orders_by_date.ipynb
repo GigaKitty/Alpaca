{
 "cells": [
  {
   "cell_type": "code",
   "execution_count": 28,
   "metadata": {
    "metadata": {}
   },
   "outputs": [],
   "source": [
    "%%capture\n",
    "!pip install --upgrade pip\n",
    "!pip install finnhub-python\n",
    "!pip install pprint\n"
   ]
  },
  {
   "cell_type": "code",
   "execution_count": 47,
   "metadata": {
    "metadata": {}
   },
   "outputs": [
    {
     "name": "stdout",
     "output_type": "stream",
     "text": [
      "1000000000.0\n",
      "{   'earningsCalendar': [   {   'date': '2024-07-23',\n",
      "                                'epsActual': None,\n",
      "                                'epsEstimate': 2.9889,\n",
      "                                'hour': 'amc',\n",
      "                                'quarter': 4,\n",
      "                                'revenueActual': None,\n",
      "                                'revenueEstimate': 65637147971,\n",
      "                                'symbol': 'MSFT',\n",
      "                                'year': 2024}]}\n"
     ]
    }
   ],
   "source": [
    "import finnhub\n",
    "import os\n",
    "import datetime\n",
    "import pprint\n",
    "\n",
    "finnhub_client = finnhub.Client(api_key=\"cn5dso1r01qocjm1mhngcn5dso1r01qocjm1mho0\")\n",
    "\n",
    "\n",
    "# Define the date range for the earnings calendar\n",
    "# For example, the next 7 days from today\n",
    "start_date = datetime.datetime.now().date()\n",
    "end_date = (\n",
    "    datetime.datetime.now() + datetime.timedelta(days=os.getenv(\"FINNHUB_DAYS\", 90))\n",
    ").date()\n",
    "\n",
    "earnings_calendar = finnhub_client.earnings_calendar(\n",
    "    _from=start_date.strftime(\"%Y-%m-%d\"),\n",
    "    to=end_date.strftime(\"%Y-%m-%d\"),\n",
    "    symbol=\"MSFT\",\n",
    "    international=False,\n",
    ")\n",
    "print(1e9)\n",
    "pp = pprint.PrettyPrinter(indent=4)\n",
    "pp.pprint(earnings_calendar)"
   ]
  }
 ],
 "metadata": {
  "kernelspec": {
   "display_name": "Python 3",
   "language": "python",
   "name": "python3"
  },
  "language_info": {
   "codemirror_mode": {
    "name": "ipython",
    "version": 3
   },
   "file_extension": ".py",
   "mimetype": "text/x-python",
   "name": "python",
   "nbconvert_exporter": "python",
   "pygments_lexer": "ipython3",
   "version": "3.10.13"
  }
 },
 "nbformat": 4,
 "nbformat_minor": 2
}
