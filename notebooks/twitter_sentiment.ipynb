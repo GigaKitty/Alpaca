{
  "cells": [
    {
      "cell_type": "markdown",
      "metadata": {
        "id": "zsi_RsfzNZ2D"
      },
      "source": [
        "# Algorithmic Trading with Twitter Sentiment Analysis!"
      ]
    },
    {
      "cell_type": "markdown",
      "metadata": {
        "id": "0VQFWLcdMedH"
      },
      "source": [
        "## Introduction\n",
        "\n",
        "When it comes to trading and cryptocurrency in particular, Twitter is the place where the community shares its thoughts. Cryptocurrencies are already known to move heavily based on perception, so it could be that there is an edge to monitoring the sentiment on platforms like Twitter. Today, we’ll be building a bot that fetches the most recent tweets regarding ETHUSD, performs sentiment analysis on those tweets, and places trades based on the polarity scores.\n",
        "\n",
        "Before we go any further, it’s important to understand how the sentiment analysis algorithm will work. We’ll be using the python package NLTK to score each tweet based on whether it seems positive, negative, or neutral. If the average polarity score for all the tweets is positive, we’ll initiate a long trade on ethereum. Likewise, if the average polarity score for all the tweets is negative, we’ll sell any current position in ethereum."
      ]
    },
    {
      "cell_type": "markdown",
      "metadata": {
        "id": "jnz_KbwXNkYh"
      },
      "source": [
        "## Using Alpaca to Trade Crypto Based on Tweet Sentiment\n",
        "\n",
        "**Download Dependencies**\n",
        "\n",
        "First, we must use the Python package installer (pip) to install all the required dependencies for the program. In this case, we have to install alpaca-py, tweepy, and nltk. In order to perform sentiment analysis, we’ll need to also download the vader_lexicon package within nltk."
      ]
    },
    {
      "cell_type": "code",
      "execution_count": 1,
      "metadata": {
        "id": "T98hD3EANZPP"
      },
      "outputs": [],
      "source": [
        "%%capture\n",
        "!pip install alpaca-py\n",
        "!pip install tweepy\n",
        "!pip install nltk"
      ]
    },
    {
      "cell_type": "markdown",
      "metadata": {
        "id": "RngmkjPMMos1"
      },
      "source": [
        "**Import Dependencies**\n",
        "\n",
        "We’ll need the python package re to clean the tweets we retrieve using regular expression operations. Tweepy will allow us to access the tweets and alpaca-py will let us both trade crypto and access live crypto prices. Finally, for the sentiment analysis, we can use nltk’s vader sentiment intensity analyzer."
      ]
    },
    {
      "cell_type": "code",
      "execution_count": 2,
      "metadata": {
        "id": "tI115831MWUt"
      },
      "outputs": [
        {
          "ename": "ImportError",
          "evalue": "cannot import name 'CryptoDataStream' from 'alpaca.data' (/home/codespace/.local/lib/python3.10/site-packages/alpaca/data/__init__.py)",
          "output_type": "error",
          "traceback": [
            "\u001b[0;31m---------------------------------------------------------------------------\u001b[0m",
            "\u001b[0;31mImportError\u001b[0m                               Traceback (most recent call last)",
            "Cell \u001b[0;32mIn[2], line 5\u001b[0m\n\u001b[1;32m      3\u001b[0m \u001b[38;5;28;01mimport\u001b[39;00m \u001b[38;5;21;01mtweepy\u001b[39;00m\n\u001b[1;32m      4\u001b[0m \u001b[38;5;28;01mimport\u001b[39;00m \u001b[38;5;21;01mpandas\u001b[39;00m \u001b[38;5;28;01mas\u001b[39;00m \u001b[38;5;21;01mpd\u001b[39;00m\n\u001b[0;32m----> 5\u001b[0m \u001b[38;5;28;01mfrom\u001b[39;00m \u001b[38;5;21;01malpaca\u001b[39;00m\u001b[38;5;21;01m.\u001b[39;00m\u001b[38;5;21;01mdata\u001b[39;00m \u001b[38;5;28;01mimport\u001b[39;00m CryptoDataStream\n\u001b[1;32m      6\u001b[0m \u001b[38;5;28;01mfrom\u001b[39;00m \u001b[38;5;21;01malpaca\u001b[39;00m\u001b[38;5;21;01m.\u001b[39;00m\u001b[38;5;21;01mtrading\u001b[39;00m\u001b[38;5;21;01m.\u001b[39;00m\u001b[38;5;21;01mclient\u001b[39;00m \u001b[38;5;28;01mimport\u001b[39;00m TradingClient\n\u001b[1;32m      7\u001b[0m \u001b[38;5;28;01mfrom\u001b[39;00m \u001b[38;5;21;01malpaca\u001b[39;00m\u001b[38;5;21;01m.\u001b[39;00m\u001b[38;5;21;01mtrading\u001b[39;00m\u001b[38;5;21;01m.\u001b[39;00m\u001b[38;5;21;01mrequests\u001b[39;00m \u001b[38;5;28;01mimport\u001b[39;00m MarketOrderRequest\n",
            "\u001b[0;31mImportError\u001b[0m: cannot import name 'CryptoDataStream' from 'alpaca.data' (/home/codespace/.local/lib/python3.10/site-packages/alpaca/data/__init__.py)"
          ]
        }
      ],
      "source": [
        "# Import dependencies\n",
        "import re\n",
        "import tweepy\n",
        "import pandas as pd\n",
        "from alpaca.data import CryptoDataStream\n",
        "from alpaca.trading.client import TradingClient\n",
        "from alpaca.trading.requests import MarketOrderRequest\n",
        "from alpaca.trading.enums import OrderSide, TimeInForce\n",
        "from nltk.sentiment.vader import SentimentIntensityAnalyzer"
      ]
    },
    {
      "cell_type": "markdown",
      "metadata": {
        "id": "TiOY4lDDMffN"
      },
      "source": [
        "**Define API Credentials and Variables**\n",
        "\n",
        "The next step is to define most of the general variables we’ll be needing throughout the program. For the Alpaca API and Secret keys, you can access those on the main dashboard of your paper trading account overview. Using these keys, we can access the trading client as well as the live crypto pricing data stream object.\n",
        "\n",
        "In order to access the Twitter API, you have to sign up for a developer account. Then, you can create a new app within the developer dashboard, and then you will be able to access the consumer keys and authentication tokens. \n",
        "\n",
        "Lastly, we can define the number of tweets we want to use to 50 and the asset for us to trade as ETHUSD or ethereum. On twitter’s platform, all cryptocurrency symbols begin with a dollar sign so that is the keyword we will be scanning for."
      ]
    },
    {
      "cell_type": "code",
      "execution_count": null,
      "metadata": {
        "id": "ff3PT26_Mf1n"
      },
      "outputs": [],
      "source": [
        "# Alpaca API Credentials\n",
        "APCA_API_KEY = sfsdf\n",
        "APCA_SECRET_KEY = '****************************************'\n",
        "trading_client = TradingClient(APCA_API_KEY, APCA_SECRET_KEY, paper=True)\n",
        "crypto_stream = CryptoDataStream(APCA_API_KEY, APCA_SECRET_KEY, raw_data=True)\n",
        "\n",
        "# Twitter API Credentials\n",
        "consumer_key = '*************************'\n",
        "consumer_secret = '**************************************************'\n",
        "access_token = '**************************************************'\n",
        "access_token_secret = '*********************************************'\n",
        "auth = tweepy.OAuthHandler(consumer_key, consumer_secret)\n",
        "auth.set_access_token(access_token, access_token_secret)\n",
        "api = tweepy.API(auth)\n",
        "\n",
        "# Define variables\n",
        "num_tweets = 50\n",
        "keyword = '$ETHUSD'\n",
        "keyword_to_asset = {\n",
        "    '$ETHUSD': 'ETHUSD'\n",
        "}"
      ]
    },
    {
      "cell_type": "markdown",
      "metadata": {
        "id": "YprK38aqMkLw"
      },
      "source": [
        "**Create Function to Check Account Positions**\n",
        "\n",
        "Next, we have to create a function to check whether the trading account currently holds any of the cryptocurrency. If it does, we can return a 1 indicating true. In this case, if there is no ethereum, then the function will just return 0.\n",
        "\n",
        "This is important because, in an upcoming function that handles the buying and selling, we can focus on buying only if there is currently no ethereum in the account. Otherwise, we’ll monitor the sell signal to see if the position should be closed."
      ]
    },
    {
      "cell_type": "code",
      "execution_count": null,
      "metadata": {
        "id": "h4co1Ws2MmW2"
      },
      "outputs": [],
      "source": [
        "# Check whether account currently holds symbol\n",
        "def check_positions(symbol):\n",
        "    positions = trading_client.get_all_positions()\n",
        "    if symbol in str(positions):\n",
        "        return 1\n",
        "    return 0"
      ]
    },
    {
      "cell_type": "markdown",
      "metadata": {
        "id": "9rv1-T_IMmPR"
      },
      "source": [
        "**Create Function to Clean the Tweets**\n",
        "\n",
        "In the next function, we’ll be fetching the tweets that we’ll be performing sentiment analysis on. However, before the tweets are ready to be analyzed, they have to be cleaned to remove mentions, links, and special characters."
      ]
    },
    {
      "cell_type": "code",
      "execution_count": null,
      "metadata": {
        "id": "klspRravwX87"
      },
      "outputs": [],
      "source": []
    },
    {
      "cell_type": "code",
      "execution_count": null,
      "metadata": {
        "id": "Zi901pV3MkSG"
      },
      "outputs": [],
      "source": [
        "# Clean the tweet content using regex\n",
        "def clean_tweet(tweet):\n",
        "    return ' '.join(re.sub(\"(@[A-Za-z0-9]+)|([^0-9A-Za-z \\t])|(\\w+:\\/\\/\\S+)\", \" \", tweet).split())"
      ]
    },
    {
      "cell_type": "markdown",
      "metadata": {
        "id": "PAzHmlbuMoCM"
      },
      "source": [
        "**Use Tweepy to Retrieve Tweets Containing Keyword**\n",
        "\n",
        "We can create a set to collect all 50 of the tweets we fetch. Then we can use tweepy to fetch the tweets and our previous clean_tweet function to remove unnecessary wording. In order to make sure we’re not including retweets, we can quickly check if the tweet’s text is not already in our tweet’s set. "
      ]
    },
    {
      "cell_type": "code",
      "execution_count": null,
      "metadata": {
        "id": "0IjHNyzwMoIt"
      },
      "outputs": [],
      "source": [
        "# Retrieve tweets from Twitter using keyword\n",
        "def get_tweets(query, count):\n",
        "    tweets = set()\n",
        "    fetched_tweets = api.search(q=query, count=count)\n",
        "    for tweet in fetched_tweets:\n",
        "        cleaned_tweet = clean_tweet(tweet.text)\n",
        "        if cleaned_tweet not in tweets:\n",
        "            tweets.add(cleaned_tweet)\n",
        "    return tweets"
      ]
    },
    {
      "cell_type": "markdown",
      "metadata": {
        "id": "GrsOi1pTMq7T"
      },
      "source": [
        "**Calculating Sentiment Polarity Score for Tweets**\n",
        "\n",
        "Using nltk, we can quickly gather the polarity scores for each tweet and append them into an array. The pol_score includes the negative, positive, neutral, and compound scores."
      ]
    },
    {
      "cell_type": "code",
      "execution_count": null,
      "metadata": {
        "id": "8i96pnimMq_v"
      },
      "outputs": [],
      "source": [
        "# Calculating the polarity of each tweet using nltk\n",
        "def calculate_polarity(tweets):\n",
        "    scores = []\n",
        "    for tweet in tweets:\n",
        "        pol_score = SentimentIntensityAnalyzer().polarity_scores(tweet)\n",
        "        pol_score['tweet'] = tweet\n",
        "        scores.append(pol_score)\n",
        "    return scores"
      ]
    },
    {
      "cell_type": "markdown",
      "metadata": {
        "id": "hkk5znptMsiJ"
      },
      "source": [
        "**Trading Crypto Based on Tweet Sentiment**\n",
        "\n",
        "Finally, we can begin to place trades based on the sentiment of the tweets we fetched. The first step is to check if our account currently holds any ethereum. Based on this, we will direct the program to focus on either buying or selling.\n",
        "\n",
        "Next, we can gather the tweets using the get_tweets function and start to perform sentiment analysis using the calculate_polarity function. The compound score takes into account the positive, negative, and neutral scores and is what we’ll be using to generate buy and sell signals.\n",
        "\n",
        "If the compound score is above 0.05 and there is currently no position in the account, we’ll buy 10 ETHUSD at the current price. If there is currently ethereum in the account and the compound score is below negative 0.05, then we’ll close out the position altogether.\n"
      ]
    },
    {
      "cell_type": "code",
      "execution_count": null,
      "metadata": {
        "id": "QaMyFVgUMspy"
      },
      "outputs": [],
      "source": [
        "# Placing trades based on the polarity of the tweets\n",
        "def twitter_bot(symbol, close, qty=10):\n",
        "    position = check_positions(symbol=symbol)\n",
        "    tweets = get_tweets(keyword, num_tweets)\n",
        "    scores = calculate_polarity(tweets)\n",
        "\n",
        "    mean = pd.DataFrame.from_records(scores).mean()\n",
        "    compound_score = mean['compound']\n",
        "    print (f\"Sentiment score: {round(compound_score, 3)}\")\n",
        "\n",
        "    if compound_score >= 0.05 and position==0:\n",
        "        market_order_data = MarketOrderRequest(\n",
        "            symbol=symbol,\n",
        "            qty=qty,\n",
        "            side=OrderSide.BUY,\n",
        "            time_in_force=TimeInForce.GTC)\n",
        "\n",
        "        trading_client.submit_order(\n",
        "            order_data=market_order_data)\n",
        "        print(f\"Bought {symbol} at approx. {close}\")\n",
        "\n",
        "    elif compound_score <= -0.05 and position==1:\n",
        "        trading_client.close_position(symbol_or_asset_id=symbol)\n",
        "        print(f\"Sold {symbol} at approx. {close}\")\n",
        "\n",
        "    return True"
      ]
    },
    {
      "cell_type": "markdown",
      "metadata": {
        "id": "1KSSWegGMzQZ"
      },
      "source": [
        "**Stream Live Crypto Data from Alpaca**\n",
        "\n",
        "The last step of building the Python bot is to start streaming live market data for ethereum from Alpaca. Fortunately, Alpaca makes this process extremely easy. \n",
        "\n",
        "First, we have to create an instance of the data streaming API by calling the CryptoDataStream method in which we pass the API keys. Then, we can create an asynchronous function to receive the live bar data and within this function, we can call the twitter_bot function.\n",
        "\n",
        "Here, we can subscribe to crypto data, and start streaming live data!\n"
      ]
    },
    {
      "cell_type": "code",
      "execution_count": null,
      "metadata": {
        "id": "O91rlHiFMzWK"
      },
      "outputs": [],
      "source": [
        "# Live streaming of crypto pricing data\n",
        "async def quote_data_handler(data):\n",
        "    close = data['c']\n",
        "    twitter_bot(keyword_to_asset[keyword], close, qty=10)\n",
        "\n",
        "crypto_stream.subscribe_bars(quote_data_handler, keyword_to_asset[keyword])\n",
        "crypto_stream.run()"
      ]
    },
    {
      "cell_type": "markdown",
      "metadata": {
        "id": "kqsELphEM1Tq"
      },
      "source": [
        "## Conclusion\n",
        "\n",
        "In this tutorial, we built a fully-functional live trading bot that trades ethereum based on recent tweet sentiment. This involved fetching tweets using tweepy, cleaning the tweets using regex, calculating polarity using nltk, and placing trades using Alpaca-py! To access and run the code from this article in a Google Colab Notebook, check out this link!\n",
        "\n",
        "Thanks for reading, and I hope you learned something about using the building bots with Alpaca-py!"
      ]
    }
  ],
  "metadata": {
    "colab": {
      "provenance": []
    },
    "kernelspec": {
      "display_name": "Python 3",
      "name": "python3"
    },
    "language_info": {
      "codemirror_mode": {
        "name": "ipython",
        "version": 3
      },
      "file_extension": ".py",
      "mimetype": "text/x-python",
      "name": "python",
      "nbconvert_exporter": "python",
      "pygments_lexer": "ipython3",
      "version": "3.10.13"
    }
  },
  "nbformat": 4,
  "nbformat_minor": 0
}
